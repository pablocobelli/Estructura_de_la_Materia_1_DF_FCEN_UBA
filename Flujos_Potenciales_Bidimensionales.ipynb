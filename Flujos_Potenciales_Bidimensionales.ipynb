{
 "cells": [
  {
   "cell_type": "markdown",
   "metadata": {},
   "source": [
    "# Flujos Potenciales Bidimensionales"
   ]
  },
  {
   "cell_type": "markdown",
   "metadata": {},
   "source": [
    "\n",
    "**Pablo Cobelli** - Departamento de Física, FCEN-UBA, Argentina.  \n",
    "Estructura de la Materia 1 - _Última actualización: Mayo de 2015._  "
   ]
  },
  {
   "cell_type": "markdown",
   "metadata": {},
   "source": [
    "**Este apunte tiene licencia [Creative Commons Attribution 4.0 International License](http://creativecommons.org/licenses/by/4.0/). **\n",
    "\n",
    "----"
   ]
  },
  {
   "cell_type": "markdown",
   "metadata": {},
   "source": [
    "$$W_0(z) = Uz + \\frac{Q}{2\\pi} \\log(z-d)$$"
   ]
  },
  {
   "cell_type": "markdown",
   "metadata": {},
   "source": [
    "$$W_1(z) = W_0(z) + \\bigg[ W_0\\bigg(\\frac{a^2}{z^*}\\bigg) \\bigg]^*$$"
   ]
  },
  {
   "cell_type": "markdown",
   "metadata": {},
   "source": [
    "$$W_1(z) = Uz + \\frac{Q}{2\\pi} \\log(z-d) + \\frac{a^2 U}{z} + \\frac{Q}{2\\pi} \\log\\bigg(\\frac{a^2}{z}-d \\bigg)$$"
   ]
  },
  {
   "cell_type": "markdown",
   "metadata": {},
   "source": [
    "$$W(z) = W_1(z) + i \\frac{\\Gamma}{2\\pi} \\log(z) $$"
   ]
  },
  {
   "cell_type": "markdown",
   "metadata": {},
   "source": [
    "$$W(z) = Uz + \\frac{Q}{2\\pi} \\log(z-d) + \\frac{a^2 U}{z} + \\frac{Q}{2\\pi} \\log\\bigg(\\frac{a^2}{z}-d \\bigg) + i \\frac{\\Gamma}{2\\pi} \\log(z)$$"
   ]
  },
  {
   "cell_type": "markdown",
   "metadata": {},
   "source": [
    "$$\\frac{dW}{dz} = U + \\frac{Q}{2\\pi(z-d)} - \\frac{a^2 U}{z^2} - \\frac{Q}{2\\pi} \\frac{a^2}{z^2 (a^2/z-d)} + i \\frac{\\Gamma}{2\\pi z} $$"
   ]
  },
  {
   "cell_type": "markdown",
   "metadata": {},
   "source": [
    "$$\\frac{dW}{dz} = \\underbrace{ U}_1 +  \\overbrace{ \\frac{Q}{2\\pi(z-d)}}^2  \\: \\underbrace{ - \\frac{a^2 U}{z^2}}_3 \\: \\overbrace{- \\frac{Q}{2\\pi} \\frac{a^2}{z^2 (a^2/z-d)}}^4 +  \\underbrace{i \\frac{\\Gamma}{2\\pi z}}_5 $$"
   ]
  },
  {
   "cell_type": "markdown",
   "metadata": {},
   "source": [
    "$$\\frac{1}{(z-a)(z-b)} = \\frac{1}{(b-a)(z-b)} - \\frac{1}{(b-a)(z-a)} $$ "
   ]
  },
  {
   "cell_type": "markdown",
   "metadata": {},
   "source": [
    "$$\\frac{1}{(z - a)^2 (z - b)} = \\frac{1}{(b-a)^2 (z-b)}-\\frac{1}{(b-a)^2\n",
    "   (z-a)}  -\\frac{1}{(b-a) (z-a)^2}$$"
   ]
  },
  {
   "cell_type": "markdown",
   "metadata": {},
   "source": [
    "$$F_x - i F_y = i \\frac{\\rho}{2} \\oint_\\mathcal{C} \\: \\left(\\frac{dW}{dz} \\right)^2 \\: dz  $$"
   ]
  },
  {
   "cell_type": "markdown",
   "metadata": {},
   "source": [
    "$$\\oint_\\mathcal{C} \\: f(z) \\: dz = 2\\pi i \\: \\text{Res} \\left\\{ f(z); z_k \\right\\}, \\quad \\quad \\text{siendo} \\:  z_k \\: \\text{la $k$-esima singularidad interna al contorno} \\: \\mathcal{C} $$ "
   ]
  },
  {
   "cell_type": "markdown",
   "metadata": {},
   "source": [
    "$$F_x - i F_y = - \\pi \\rho  \\: \\text{Res} \\left\\{ f(z); z_k \\right\\}, \\quad \\quad \\text{siendo} \\:  z_k \\: \\text{la $k$-esima singularidad interna al contorno} \\: \\mathcal{C}  $$"
   ]
  },
  {
   "cell_type": "markdown",
   "metadata": {},
   "source": [
    "## Cómo utilizar este documento"
   ]
  },
  {
   "cell_type": "markdown",
   "metadata": {},
   "source": [
    "\n",
    "Este documento es una guía para ... empleando Python. \n",
    "\n",
    "Se emplean las librerías **[numpy](http://www.numpy.org)** (para cálculo numérico) y **[matplotlib](http://www.matplotlib.org)** (para la representación gráfica de datos). \n",
    "\n",
    "Cada línea de código necesaria para el cálculo del ajuste se representa en letras de tipo de máquina de escribir (`como este texto`) y está precedida por la expresión \"`In [·]:`\", en azul. Por el contrario, las expresiones precedidas por \"`Out [·]:`\" representan la respuesta que Python nos dá a las instrucciones que le pasamos.\n"
   ]
  },
  {
   "cell_type": "code",
   "execution_count": null,
   "metadata": {
    "collapsed": true
   },
   "outputs": [],
   "source": []
  }
 ],
 "metadata": {
  "kernelspec": {
   "display_name": "Python 3",
   "language": "python",
   "name": "python3"
  },
  "language_info": {
   "codemirror_mode": {
    "name": "ipython",
    "version": 3
   },
   "file_extension": ".py",
   "mimetype": "text/x-python",
   "name": "python",
   "nbconvert_exporter": "python",
   "pygments_lexer": "ipython3",
   "version": "3.4.3"
  }
 },
 "nbformat": 4,
 "nbformat_minor": 0
}
