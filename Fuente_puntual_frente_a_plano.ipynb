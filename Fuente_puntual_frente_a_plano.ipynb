{
 "cells": [
  {
   "cell_type": "markdown",
   "metadata": {},
   "source": [
    "# Fuente puntual de caudal constante frente a un plano"
   ]
  },
  {
   "cell_type": "markdown",
   "metadata": {},
   "source": [
    "\n",
    "**Pablo Cobelli** - Departamento de Física, FCEN-UBA, Argentina.  \n",
    "Estructura de la Materia 1 - _Última actualización: Mayo de 2015._  "
   ]
  },
  {
   "cell_type": "markdown",
   "metadata": {},
   "source": [
    "**Este apunte tiene licencia [Creative Commons Attribution 4.0 International License](http://creativecommons.org/licenses/by/4.0/). **\n",
    "\n",
    "----"
   ]
  },
  {
   "cell_type": "markdown",
   "metadata": {},
   "source": [
    "## Motivacion"
   ]
  },
  {
   "cell_type": "markdown",
   "metadata": {},
   "source": [
    "En esta notebook vamos a considerar un problema basico del metodo de imagenes para flujos potenciales bidimensionales, aquel en el que se busca determinar el potencial complejo asociado a una fuente de caudal constante $Q$ ubicada a una distancia $d$ de un plano infinito.\n",
    "\n",
    "**En este caso el objetivo es ilustrar, en este caso sencillo, como es posible resolver este problema en Python empleando las capacidades de calculo simbolico del paquete [sympy](http://www.sympy.org)**."
   ]
  },
  {
   "cell_type": "markdown",
   "metadata": {},
   "source": [
    "### Resolucion"
   ]
  },
  {
   "cell_type": "markdown",
   "metadata": {},
   "source": [
    "Para ser concretos vamos a considerar que la posicion del plano viene dada por $y=0$, y que la fuente de caudal $Q$ esta ubicada en $z = (x+iy) = id$. \n",
    "\n",
    "Resulta evidente que, a fin de que el plano $y=0$ sea una linea de corriente debemos ubicar una fuente *imagen* de igual caudal en $z = -id$, es decir, interior al contorno que estamos considerando.\n",
    "\n",
    "Luego el potencial complejo $W(z)$ de la fuente real y su imagen por el plano viene dado por:"
   ]
  },
  {
   "cell_type": "markdown",
   "metadata": {},
   "source": [
    "$$W(z) = \\frac{Q}{2\\pi} \\log(z-id) + \\frac{Q}{2\\pi} \\log(z+id).$$"
   ]
  },
  {
   "cell_type": "markdown",
   "metadata": {},
   "source": [
    "Es facil ver que este potencial complejo hace que el contorno $y=0$ sea efectivamente una linea de corriente. Para ello, basta con calcular $W(z)$ en $y=0$, es decir, $W(x)$. En ese caso, "
   ]
  },
  {
   "cell_type": "markdown",
   "metadata": {},
   "source": [
    "$$W(x) = \\frac{Q}{2\\pi} \\log(x-id) + \\frac{Q}{2\\pi} \\log(x+id) = \\frac{Q}{2\\pi} \\log \\left[ (x-id)(x+id)\\right],$$"
   ]
  },
  {
   "cell_type": "markdown",
   "metadata": {},
   "source": [
    "pero esta expresion es equivalente a"
   ]
  },
  {
   "cell_type": "markdown",
   "metadata": {},
   "source": [
    "$$W(x) = \\frac{Q}{2\\pi} \\log \\left[x^2+d^2 \\right].$$"
   ]
  },
  {
   "cell_type": "markdown",
   "metadata": {},
   "source": [
    "Ahora bien, dado que $x$ y $d$ son reales, esta expresion tiene parte imaginaria nula. Dado que el potencial complejo esta definido por $W(z) = \\phi(z) + i \\psi(z)$, la ultima expresion nos dice que la funcion corriente es constante (y de valor nulo) sobre el plano $y=0$, lo que significa que el contorno es efectivamente una linea de corriente."
   ]
  },
  {
   "cell_type": "markdown",
   "metadata": {},
   "source": [
    " "
   ]
  },
  {
   "cell_type": "markdown",
   "metadata": {},
   "source": [
    "Habiendo calculado el potencial complejo, el campo de velocidades (conjugado) se obtiene facilmente a partir de él derivandolo respecto de la variable compleja $z$. De esa operacion se obtiene: "
   ]
  },
  {
   "cell_type": "markdown",
   "metadata": {},
   "source": [
    "$$\\frac{dW}{dz} = \\frac{Q}{2\\pi} \\left( \\frac{1}{z-id} + \\frac{1}{z+id}  \\right) = \n",
    "\\frac{Q}{2\\pi} \\frac{2\\: z}{z^2+d^2}$$"
   ]
  },
  {
   "cell_type": "markdown",
   "metadata": {},
   "source": [
    "expresion en la cual podemos reemplazar $z$ por $x+iy$ para marcar mas claramente la separacion entre partes real e imaginaria del campo de velocidades conjugado"
   ]
  },
  {
   "cell_type": "markdown",
   "metadata": {},
   "source": [
    "$$\\frac{dW}{dz} = u^* = u_x - i u_y = \\frac{Q}{2\\pi} \\frac{2 \\:(x+ i \\:y)}{(x+iy)^2+d^2}. $$"
   ]
  },
  {
   "cell_type": "markdown",
   "metadata": {},
   "source": [
    "Observen que si ahora quisieramos obtener una expresion para el campo de velocidades en cada direccion cartesiana del espacio, habria que considerar las partes real e imaginaria de la expresion a la derecha de la ultima igualdad. Si bien esas operaciones no presentan dificultad, queria mostrarles como es posible explotar la capacidad de calculo simbolico de Python (a traves de la libreria **sympy**) para calcular las expresiones asociadas a $u_x$ y $u_y$ y graficar los resultados para valores concretos de los parametros del problema."
   ]
  },
  {
   "cell_type": "markdown",
   "metadata": {},
   "source": [
    "### Resolucion simbolica empleando **sympy**"
   ]
  },
  {
   "cell_type": "markdown",
   "metadata": {},
   "source": [
    "Comencemos llamando a la libreria de calculo simbolico; esto se logra con la primera de las siguientes dos lineas de codigo Python. La segunda linea hace que las respuestas que obtengamos (es decir, las expresiones simbolicas que nos devuelva Python) esten correctamente formateadas para que sean facilmente lisibles en pantalla. "
   ]
  },
  {
   "cell_type": "code",
   "execution_count": 1,
   "metadata": {
    "collapsed": false
   },
   "outputs": [],
   "source": [
    "from sympy import *     # Importamos sympy, la libreria de calculo simbolico.\n",
    "init_printing()         # Los resultados simbolicos se muestran en formato LaTeX."
   ]
  },
  {
   "cell_type": "markdown",
   "metadata": {},
   "source": [
    "\n",
    "Una vez que cargamos la libreria de calculo simbolico, vamos a definir las variables que emplearemos en el problema. \n",
    "\n",
    "En nuestro caso tenemos, por un lado, $x$ e $y$, que seran variables reales. Luego tenemos tambien $d$ y $Q$, que seran reales no negativos. Finalmente, tenemos la variable $z$, que sera compleja. Estas tres definiciones (por grupos) las realizamos con las siguientes 3 lineas de codigo:"
   ]
  },
  {
   "cell_type": "code",
   "execution_count": 2,
   "metadata": {
    "collapsed": true
   },
   "outputs": [],
   "source": [
    "x, y = symbols('x y', real=True)\n",
    "d, Q = symbols('d Q', nonnegative=True)\n",
    "z = Symbol('z', complex=True)"
   ]
  },
  {
   "cell_type": "markdown",
   "metadata": {},
   "source": [
    "\n",
    "Ahora que tenemos nuestras variables simbolicas correctamente definidas, comenzamos el calculo. Cargamos entonces nuestra expresion para $dW/dz$, en la forma"
   ]
  },
  {
   "cell_type": "code",
   "execution_count": 3,
   "metadata": {
    "collapsed": false
   },
   "outputs": [],
   "source": [
    "expresion_dWdz = Q/2/pi*2*z/(z**2+d**2)"
   ]
  },
  {
   "cell_type": "markdown",
   "metadata": {},
   "source": [
    "Python asigna entonces nuestra expresion a la variable 'expresion_dWdz', pero no nos da ninguna expresion como respuesta. Para ver lo que tenemos 'almacenado' en esa variable, hacemos simplemente"
   ]
  },
  {
   "cell_type": "code",
   "execution_count": 4,
   "metadata": {
    "collapsed": false
   },
   "outputs": [
    {
     "data": {
      "image/png": "[encoded data removed]",
      "text/latex": [
       "$$\\frac{Q z}{\\pi \\left(d^{2} + z^{2}\\right)}$$"
      ],
      "text/plain": [
       "    Q⋅z    \n",
       "───────────\n",
       "  ⎛ 2    2⎞\n",
       "π⋅⎝d  + z ⎠"
      ]
     },
     "execution_count": 4,
     "metadata": {},
     "output_type": "execute_result"
    }
   ],
   "source": [
    "expresion_dWdz"
   ]
  },
  {
   "cell_type": "markdown",
   "metadata": {},
   "source": [
    "y recuperamos la expresion a la que ya habiamos llegado con papel y lapiz previamente. Ahora le pedimos que reemplace $z$ por $x+iy$, lo que hacemos empleando el comando '`subs`':"
   ]
  },
  {
   "cell_type": "code",
   "execution_count": 5,
   "metadata": {
    "collapsed": false
   },
   "outputs": [],
   "source": [
    "expresion_dWdz_2 = expresion_dWdz.subs(z,x+I*y)"
   ]
  },
  {
   "cell_type": "markdown",
   "metadata": {},
   "source": [
    "y para ver el resultado de la operacion hacemos"
   ]
  },
  {
   "cell_type": "code",
   "execution_count": 6,
   "metadata": {
    "collapsed": false
   },
   "outputs": [
    {
     "data": {
      "image/png": "[encoded data removed]",
      "text/latex": [
       "$$\\frac{Q \\left(x + i y\\right)}{\\pi \\left(d^{2} + \\left(x + i y\\right)^{2}\\right)}$$"
      ],
      "text/plain": [
       "    Q⋅(x + ⅈ⋅y)    \n",
       "───────────────────\n",
       "  ⎛ 2            2⎞\n",
       "π⋅⎝d  + (x + ⅈ⋅y) ⎠"
      ]
     },
     "execution_count": 6,
     "metadata": {},
     "output_type": "execute_result"
    }
   ],
   "source": [
    "expresion_dWdz_2"
   ]
  },
  {
   "cell_type": "markdown",
   "metadata": {},
   "source": [
    "Hasta aqui solo hemos recuperado los resultados que ya teniamos para el campo de velocidades conjugado (recuerden que $dW/dz = u^*$). Ahora vamos a pedirle a sympy que nos calcule la parte real de la ultima expresion, usando la funcion '`re`': "
   ]
  },
  {
   "cell_type": "code",
   "execution_count": 7,
   "metadata": {
    "collapsed": false
   },
   "outputs": [
    {
     "data": {
      "image/png": "[encoded data removed]",
      "text/latex": [
       "$$\\frac{2 Q x y^{2}}{\\pi \\left(4 x^{2} y^{2} + \\left(d^{2} + x^{2} - y^{2}\\right)^{2}\\right)} + \\frac{Q x \\left(d^{2} + x^{2} - y^{2}\\right)}{\\pi \\left(4 x^{2} y^{2} + \\left(d^{2} + x^{2} - y^{2}\\right)^{2}\\right)}$$"
      ],
      "text/plain": [
       "                  2                       ⎛ 2    2    2⎞     \n",
       "           2⋅Q⋅x⋅y                    Q⋅x⋅⎝d  + x  - y ⎠     \n",
       "───────────────────────────── + ─────────────────────────────\n",
       "  ⎛                        2⎞     ⎛                        2⎞\n",
       "  ⎜   2  2   ⎛ 2    2    2⎞ ⎟     ⎜   2  2   ⎛ 2    2    2⎞ ⎟\n",
       "π⋅⎝4⋅x ⋅y  + ⎝d  + x  - y ⎠ ⎠   π⋅⎝4⋅x ⋅y  + ⎝d  + x  - y ⎠ ⎠"
      ]
     },
     "execution_count": 7,
     "metadata": {},
     "output_type": "execute_result"
    }
   ],
   "source": [
    "re(expresion_dWdz_2)"
   ]
  },
  {
   "cell_type": "markdown",
   "metadata": {},
   "source": [
    "y tambien su parte imaginaria por medio de la funcion '`im`'"
   ]
  },
  {
   "cell_type": "code",
   "execution_count": 8,
   "metadata": {
    "collapsed": false
   },
   "outputs": [
    {
     "data": {
      "image/png": "[encoded data removed]",
      "text/latex": [
       "$$- \\frac{2 Q x^{2} y}{\\pi \\left(4 x^{2} y^{2} + \\left(d^{2} + x^{2} - y^{2}\\right)^{2}\\right)} + \\frac{Q y \\left(d^{2} + x^{2} - y^{2}\\right)}{\\pi \\left(4 x^{2} y^{2} + \\left(d^{2} + x^{2} - y^{2}\\right)^{2}\\right)}$$"
      ],
      "text/plain": [
       "                  2                         ⎛ 2    2    2⎞     \n",
       "             2⋅Q⋅x ⋅y                   Q⋅y⋅⎝d  + x  - y ⎠     \n",
       "- ───────────────────────────── + ─────────────────────────────\n",
       "    ⎛                        2⎞     ⎛                        2⎞\n",
       "    ⎜   2  2   ⎛ 2    2    2⎞ ⎟     ⎜   2  2   ⎛ 2    2    2⎞ ⎟\n",
       "  π⋅⎝4⋅x ⋅y  + ⎝d  + x  - y ⎠ ⎠   π⋅⎝4⋅x ⋅y  + ⎝d  + x  - y ⎠ ⎠"
      ]
     },
     "execution_count": 8,
     "metadata": {},
     "output_type": "execute_result"
    }
   ],
   "source": [
    "im(expresion_dWdz_2)"
   ]
  },
  {
   "cell_type": "markdown",
   "metadata": {},
   "source": [
    "\n",
    "Observen que cualquiera de estas ultimas dos expresiones puede simplificarse considerablemente considerando el denominador comun. Esta factorizacion simbolica se puede realizar en **sympy** por medio del metodo '`factor`'. La forma de utilizarlo es la siguiente: "
   ]
  },
  {
   "cell_type": "code",
   "execution_count": 9,
   "metadata": {
    "collapsed": false
   },
   "outputs": [
    {
     "data": {
      "image/png": "[encoded data removed]",
      "text/latex": [
       "$$- \\frac{Q y \\left(- d^{2} + x^{2} + y^{2}\\right)}{\\pi \\left(d^{2} - 2 d y + x^{2} + y^{2}\\right) \\left(d^{2} + 2 d y + x^{2} + y^{2}\\right)}$$"
      ],
      "text/plain": [
       "                  ⎛   2    2    2⎞             \n",
       "             -Q⋅y⋅⎝- d  + x  + y ⎠             \n",
       "───────────────────────────────────────────────\n",
       "  ⎛ 2            2    2⎞ ⎛ 2            2    2⎞\n",
       "π⋅⎝d  - 2⋅d⋅y + x  + y ⎠⋅⎝d  + 2⋅d⋅y + x  + y ⎠"
      ]
     },
     "execution_count": 9,
     "metadata": {},
     "output_type": "execute_result"
    }
   ],
   "source": [
    "im(expresion_dWdz_2).factor()"
   ]
  },
  {
   "cell_type": "markdown",
   "metadata": {},
   "source": [
    " "
   ]
  },
  {
   "cell_type": "markdown",
   "metadata": {},
   "source": [
    "\n",
    "\n",
    "Ahora podemos entonces definir las velocidades $u_x$ y $u_y$ empleando los resultados simbolicos obtenidos, para despues poder graficar el campo de velocidades. Hacemos eso asignando las partes real e imaginaria (ya simplificadas con el comando '`factor`') a las variables '`ux`' y '`uy`':"
   ]
  },
  {
   "cell_type": "code",
   "execution_count": 10,
   "metadata": {
    "collapsed": false
   },
   "outputs": [
    {
     "data": {
      "image/png": "[encoded data removed]",
      "text/latex": [
       "$$\\frac{Q x \\left(d^{2} + x^{2} + y^{2}\\right)}{\\pi \\left(d^{2} - 2 d y + x^{2} + y^{2}\\right) \\left(d^{2} + 2 d y + x^{2} + y^{2}\\right)}$$"
      ],
      "text/plain": [
       "                   ⎛ 2    2    2⎞              \n",
       "               Q⋅x⋅⎝d  + x  + y ⎠              \n",
       "───────────────────────────────────────────────\n",
       "  ⎛ 2            2    2⎞ ⎛ 2            2    2⎞\n",
       "π⋅⎝d  - 2⋅d⋅y + x  + y ⎠⋅⎝d  + 2⋅d⋅y + x  + y ⎠"
      ]
     },
     "execution_count": 10,
     "metadata": {},
     "output_type": "execute_result"
    }
   ],
   "source": [
    "ux = re(expresion_dWdz_2).factor()\n",
    "ux"
   ]
  },
  {
   "cell_type": "code",
   "execution_count": 11,
   "metadata": {
    "collapsed": false
   },
   "outputs": [
    {
     "data": {
      "image/png": "[encoded data removed]",
      "text/latex": [
       "$$\\frac{Q y \\left(- d^{2} + x^{2} + y^{2}\\right)}{\\pi \\left(d^{2} - 2 d y + x^{2} + y^{2}\\right) \\left(d^{2} + 2 d y + x^{2} + y^{2}\\right)}$$"
      ],
      "text/plain": [
       "                  ⎛   2    2    2⎞             \n",
       "              Q⋅y⋅⎝- d  + x  + y ⎠             \n",
       "───────────────────────────────────────────────\n",
       "  ⎛ 2            2    2⎞ ⎛ 2            2    2⎞\n",
       "π⋅⎝d  - 2⋅d⋅y + x  + y ⎠⋅⎝d  + 2⋅d⋅y + x  + y ⎠"
      ]
     },
     "execution_count": 11,
     "metadata": {},
     "output_type": "execute_result"
    }
   ],
   "source": [
    "uy = -im(expresion_dWdz_2).expand().factor()\n",
    "uy"
   ]
  },
  {
   "cell_type": "markdown",
   "metadata": {},
   "source": [
    "### Graficar el campo de velocidades empleando las expresiones obtenidas simbolicamente"
   ]
  },
  {
   "cell_type": "markdown",
   "metadata": {},
   "source": [
    "\n",
    "Antes de graficar el campo de velocidad, es importante mencionar que las expresiones que calculamos para `ux` y `uy` son para Python solo expresiones simbolicas. Entonces, en forma previa a poder utilizarlas para graficar, resulta necesario definirlas como funciones de sus variables. Esto se logra facilmente empleando el comando `lambdify`. \n",
    "\n",
    "En nuestro caso, `ux` y `uy` son funciones de las coordenadas $x$ e $y$, pero tambien son funciones de $d$ y $Q$. \n",
    "\n",
    "Definimos entonces las **funciones** `uxf` y `uyf` a partir de las expresiones que obtuvimos simbolicamente en la seccion anterior, con las siguientes dos lineas de codigo:"
   ]
  },
  {
   "cell_type": "code",
   "execution_count": 12,
   "metadata": {
    "collapsed": false
   },
   "outputs": [],
   "source": [
    "# Convertimos las expresiones simbolicas de sympy en funciones numericas de numpy.\n",
    "uxf = lambdify((x,y,d,Q),ux,'numpy')\n",
    "uyf = lambdify((x,y,d,Q),uy,'numpy')"
   ]
  },
  {
   "cell_type": "markdown",
   "metadata": {},
   "source": [
    "El agregado de la opcion `'numpy'` al final de estas dos ultimas instrucciones le dice a Python que las funciones `uxf` y `uyf` van a ser empleadas con la libreria `numpy` de calculo numerico (al momento de graficar el campo de velocidades).\n",
    "\n",
    "Observemos que ahora `uxf` es una funcion capaz de tomar valores concretos de $x, y, d$ y $Q$ y devolvernos un valor numerico concreto (es decir, ya no es una expresion simbolica):"
   ]
  },
  {
   "cell_type": "code",
   "execution_count": 13,
   "metadata": {
    "collapsed": false
   },
   "outputs": [
    {
     "data": {
      "image/png": "[encoded data removed]",
      "text/latex": [
       "$$0.19098593171027442$$"
      ],
      "text/plain": [
       "0.19098593171027442"
      ]
     },
     "execution_count": 13,
     "metadata": {},
     "output_type": "execute_result"
    }
   ],
   "source": [
    "uxf(0.5,0.5,1,1)"
   ]
  },
  {
   "cell_type": "markdown",
   "metadata": {},
   "source": [
    "\n",
    "En este momento estamos en condiciones de graficar el campo de velocidades. Para ello, importemos la libreria **matplotlib** para graficacion:"
   ]
  },
  {
   "cell_type": "code",
   "execution_count": 14,
   "metadata": {
    "collapsed": true
   },
   "outputs": [],
   "source": [
    "import matplotlib.pyplot as plt\n",
    "%matplotlib inline\n",
    "plt.ion()"
   ]
  },
  {
   "cell_type": "markdown",
   "metadata": {},
   "source": [
    "y la libreria **numpy** para el calculo numerico del campo de velocidades:"
   ]
  },
  {
   "cell_type": "code",
   "execution_count": 15,
   "metadata": {
    "collapsed": true
   },
   "outputs": [],
   "source": [
    "import numpy as np"
   ]
  },
  {
   "cell_type": "markdown",
   "metadata": {},
   "source": [
    "Definimos entonces la grilla espacial sobre la que graficaremos. En este caso vamos a considerar una region dada por el producto cartesiano $x \\times y = [-2,2 ] \\times [-2,2 ]$, integrada por $50\\times50$ puntos. Esto es lo que hacen las siguientes 3 lineas de codigo "
   ]
  },
  {
   "cell_type": "code",
   "execution_count": 16,
   "metadata": {
    "collapsed": true
   },
   "outputs": [],
   "source": [
    "# Definimos la grilla espacial 2D sobre la que graficaremos.\n",
    "xv = np.linspace(-2,2,50)\n",
    "yv = np.linspace(-2,2,50)\n",
    "x, y = np.meshgrid(xv, yv)"
   ]
  },
  {
   "cell_type": "markdown",
   "metadata": {},
   "source": [
    "Finalmente, elegimos valores para $d$ y $Q$, y graficamos:"
   ]
  },
  {
   "cell_type": "code",
   "execution_count": 17,
   "metadata": {
    "collapsed": false
   },
   "outputs": [
    {
     "data": {
      "image/png": "[encoded data removed]",
      "text/plain": [
       "<matplotlib.figure.Figure at 0x106762748>"
      ]
     },
     "metadata": {},
     "output_type": "display_data"
    }
   ],
   "source": [
    "# Elegimos un valor para d y graficamos.\n",
    "d = 1\n",
    "Q = 1\n",
    "plt.figure(figsize=(6,6))\n",
    "plt.streamplot(x,y,uxf(x,y,d,Q),uyf(x,y,d,Q))\n",
    "plt.plot(0,d,'ko')\n",
    "plt.plot(0,-d,'ro')\n",
    "plt.plot((-2,2),(0,0),'k--', linewidth=2)\n",
    "plt.xlim(-2,2)\n",
    "plt.ylim(-2,2)\n",
    "plt.xlabel('x', fontsize=14)\n",
    "plt.xlabel('y', fontsize=14)\n",
    "plt.title('Fuente de caudal $Q$ frente a plano')\n",
    "plt.gca().set_aspect('equal')"
   ]
  },
  {
   "cell_type": "markdown",
   "metadata": {},
   "source": [
    "La figura muestra las lineas de corriente del campo de velocidades de una fuente puntual de caudal constante $Q$ ubicada a una distandia $d$ de un plano infinito. En la figura, la posicion de la fuente **real** se denota con un circulo negro, mientras que aquella correspondiente a la fuente **imagen** se señala con un circulo rojo. El plano se esquematiza mediante la linea punteada."
   ]
  },
  {
   "cell_type": "markdown",
   "metadata": {},
   "source": [
    "## Cómo utilizar este documento"
   ]
  },
  {
   "cell_type": "markdown",
   "metadata": {},
   "source": [
    "\n",
    "Este documento es una guía para la determinacion del campo de velocidades irrotacional e incompresible en el semiespacio $y>0$ correspondiente a una fuente de caudal $Q>0$ constante ubicada a una distancia $d$ de un plano infinito empleando Python. \n",
    "\n",
    "Se emplean las librerías **[sympy](http://www.sympy.org)** (para el cálculo simbólico), **[numpy](http://www.numpy.org)** (para cálculo numérico) y **[matplotlib](http://www.matplotlib.org)** (para la representación gráfica de datos). \n",
    "\n",
    "Cada línea de código necesaria para el cálculo del ajuste se representa en letras de tipo de máquina de escribir (`como este texto`) y está precedida por la expresión \"`In [·]:`\", en azul. Por el contrario, las expresiones precedidas por \"`Out [·]:`\" representan la respuesta que Python nos dá a las instrucciones que le pasamos.\n"
   ]
  }
 ],
 "metadata": {
  "kernelspec": {
   "display_name": "Python 3",
   "language": "python",
   "name": "python3"
  },
  "language_info": {
   "codemirror_mode": {
    "name": "ipython",
    "version": 3
   },
   "file_extension": ".py",
   "mimetype": "text/x-python",
   "name": "python",
   "nbconvert_exporter": "python",
   "pygments_lexer": "ipython3",
   "version": "3.4.3"
  }
 },
 "nbformat": 4,
 "nbformat_minor": 0
}
